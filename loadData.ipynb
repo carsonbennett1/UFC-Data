{
 "cells": [
  {
   "cell_type": "markdown",
   "id": "42a1d3fd",
   "metadata": {},
   "source": [
    "## Loading Data"
   ]
  },
  {
   "cell_type": "code",
   "execution_count": 4,
   "id": "5c93ed07",
   "metadata": {},
   "outputs": [],
   "source": [
    "import pandas as pd\n",
    "general_ufc_data = pd.read_csv(\"UFC.csv\")"
   ]
  }
 ],
 "metadata": {
  "kernelspec": {
   "display_name": "base",
   "language": "python",
   "name": "python3"
  },
  "language_info": {
   "codemirror_mode": {
    "name": "ipython",
    "version": 3
   },
   "file_extension": ".py",
   "mimetype": "text/x-python",
   "name": "python",
   "nbconvert_exporter": "python",
   "pygments_lexer": "ipython3",
   "version": "3.12.4"
  }
 },
 "nbformat": 4,
 "nbformat_minor": 5
}
